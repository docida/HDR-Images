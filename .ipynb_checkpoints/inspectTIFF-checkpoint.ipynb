{
 "cells": [
  {
   "cell_type": "code",
   "execution_count": 31,
   "metadata": {},
   "outputs": [],
   "source": [
    "import exifread"
   ]
  },
  {
   "cell_type": "code",
   "execution_count": 32,
   "metadata": {},
   "outputs": [],
   "source": [
    "f = open(\"images/sample.tif\", 'rb')"
   ]
  },
  {
   "cell_type": "code",
   "execution_count": 33,
   "metadata": {},
   "outputs": [],
   "source": [
    "tags = exifread.process_file(f)"
   ]
  },
  {
   "cell_type": "code",
   "execution_count": 34,
   "metadata": {},
   "outputs": [
    {
     "name": "stdout",
     "output_type": "stream",
     "text": [
      "Key: Image SubfileType, value Full-resolution Image\n",
      "Key: Image ImageWidth, value 1008\n",
      "Key: Image ImageLength, value 1018\n",
      "Key: Image BitsPerSample, value 16\n",
      "Key: Image Compression, value Uncompressed\n",
      "Key: Image PhotometricInterpretation, value 1\n",
      "Key: Image FillOrder, value 1\n",
      "Key: Image StripOffsets, value [8, 8072, 16136, 24200, 32264, 40328, 48392, 56456, 64520, 72584, 80648, 88712, 96776, 104840, 112904, 120968, 129032, 137096, 145160, 153224, ... ]\n",
      "Key: Image Orientation, value Horizontal (normal)\n",
      "Key: Image SamplesPerPixel, value 1\n",
      "Key: Image RowsPerStrip, value 4\n",
      "Key: Image StripByteCounts, value [8064, 8064, 8064, 8064, 8064, 8064, 8064, 8064, 8064, 8064, 8064, 8064, 8064, 8064, 8064, 8064, 8064, 8064, 8064, 8064, ... ]\n",
      "Key: Image XResolution, value 72\n",
      "Key: Image YResolution, value 72\n",
      "Key: Image PlanarConfiguration, value 1\n",
      "Key: Image ResolutionUnit, value Pixels/Inch\n",
      "Key: Image SampleFormat, value Unsigned\n"
     ]
    }
   ],
   "source": [
    "for tag in tags.keys():\n",
    "    print (\"Key: %s, value %s\" % (tag, tags[tag]))"
   ]
  }
 ],
 "metadata": {
  "kernelspec": {
   "display_name": "Python 3",
   "language": "python",
   "name": "python3"
  },
  "language_info": {
   "codemirror_mode": {
    "name": "ipython",
    "version": 3
   },
   "file_extension": ".py",
   "mimetype": "text/x-python",
   "name": "python",
   "nbconvert_exporter": "python",
   "pygments_lexer": "ipython3",
   "version": "3.6.4"
  }
 },
 "nbformat": 4,
 "nbformat_minor": 2
}
